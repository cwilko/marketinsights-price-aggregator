{
 "cells": [
  {
   "cell_type": "code",
   "execution_count": 1,
   "metadata": {
    "scrolled": false
   },
   "outputs": [
    {
     "name": "stdout",
     "output_type": "stream",
     "text": [
      "Pixiedust database opened successfully\n"
     ]
    },
    {
     "data": {
      "text/html": [
       "\n",
       "        <div style=\"margin:10px\">\n",
       "            <a href=\"https://github.com/ibm-watson-data-lab/pixiedust\" target=\"_new\">\n",
       "                <img src=\"https://github.com/ibm-watson-data-lab/pixiedust/raw/master/docs/_static/pd_icon32.png\" style=\"float:left;margin-right:10px\"/>\n",
       "            </a>\n",
       "            <span>Pixiedust version 1.1.18</span>\n",
       "        </div>\n",
       "        "
      ],
      "text/plain": [
       "<IPython.core.display.HTML object>"
      ]
     },
     "metadata": {},
     "output_type": "display_data"
    },
    {
     "name": "stdout",
     "output_type": "stream",
     "text": [
      "\u001b[31mPixiedust runtime updated. Please restart kernel\u001b[0m\n"
     ]
    },
    {
     "data": {
      "text/html": [
       "<div>Warning: You are not running the latest version of PixieDust. Current is 1.1.18, Latest is 1.1.19</div>"
      ],
      "text/plain": [
       "<IPython.core.display.HTML object>"
      ]
     },
     "metadata": {},
     "output_type": "display_data"
    },
    {
     "data": {
      "text/html": [
       "\n",
       "                <div>Please copy and run the following command in a new cell to upgrade: <span style=\"background-color:#ececec;font-family:monospace;padding:0 5px\">!pip install --user --upgrade pixiedust</span></div>\n",
       "            "
      ],
      "text/plain": [
       "<IPython.core.display.HTML object>"
      ]
     },
     "metadata": {},
     "output_type": "display_data"
    },
    {
     "data": {
      "text/html": [
       "<div>Please restart kernel after upgrading.</div>"
      ],
      "text/plain": [
       "<IPython.core.display.HTML object>"
      ]
     },
     "metadata": {},
     "output_type": "display_data"
    }
   ],
   "source": [
    "import pixiedust\n",
    "#!pip install --upgrade ~/Development/repos/quantutils\n",
    "#!pip install --upgrade ~/Development/repos/tradeframework\n",
    "\n",
    "\n",
    "# import utilities\n",
    "from MIPriceStore.api.datasource import MIDataStore\n",
    "from quantutils.api.auth import CredentialsStore\n",
    "import quantutils.dataset.pipeline as ppl\n",
    "\n",
    "#import tradeframework\n",
    "from tradeframework.api import Derivative, Optimizer, Model, TradeEnvironment, TradeEngine, Asset\n",
    "from tradeframework.environments import SandboxEnvironment, ZiplineEnvironment\n",
    "from tradeframework.models import PreOpenMomentum\n",
    "import tradeframework.operations.trader as trader\n",
    "import tradeframework.operations.utils as utils\n",
    "\n",
    "# Development\n",
    "import pandas\n",
    "import numpy as np\n",
    "\n",
    "\n",
    "%matplotlib inline"
   ]
  },
  {
   "cell_type": "code",
   "execution_count": 4,
   "metadata": {
    "scrolled": false
   },
   "outputs": [
    {
     "name": "stdout",
     "output_type": "stream",
     "text": [
      "Loading data from WallSt-hourly in ../marketinsights-price-store/datastore/data.hdf\n"
     ]
    },
    {
     "ename": "AttributeError",
     "evalue": "'numpy.bytes_' object has no attribute 'get'",
     "output_type": "error",
     "traceback": [
      "\u001b[0;31m---------------------------------------------------------------------------\u001b[0m",
      "\u001b[0;31mAttributeError\u001b[0m                            Traceback (most recent call last)",
      "\u001b[0;32m<ipython-input-4-45998d403901>\u001b[0m in \u001b[0;36m<module>\u001b[0;34m()\u001b[0m\n\u001b[1;32m      4\u001b[0m \u001b[0mmds\u001b[0m \u001b[0;34m=\u001b[0m \u001b[0mMarketDataStore\u001b[0m\u001b[0;34m(\u001b[0m\u001b[0mlocation\u001b[0m\u001b[0;34m=\u001b[0m\u001b[0;34m\"../marketinsights-price-store/datastore\"\u001b[0m\u001b[0;34m)\u001b[0m\u001b[0;34m\u001b[0m\u001b[0;34m\u001b[0m\u001b[0m\n\u001b[1;32m      5\u001b[0m \u001b[0;34m\u001b[0m\u001b[0m\n\u001b[0;32m----> 6\u001b[0;31m \u001b[0mmarketData\u001b[0m \u001b[0;34m=\u001b[0m \u001b[0mmds\u001b[0m\u001b[0;34m.\u001b[0m\u001b[0maggregate\u001b[0m\u001b[0;34m(\u001b[0m\u001b[0;34m\"2013-01-01\"\u001b[0m\u001b[0;34m,\u001b[0m \u001b[0;34m\"2013-07-11\"\u001b[0m\u001b[0;34m,\u001b[0m \u001b[0;34m[\u001b[0m\u001b[0;34m\"WallSt-hourly\"\u001b[0m\u001b[0;34m,\u001b[0m\u001b[0;34m\"D%26J-IND\"\u001b[0m\u001b[0;34m]\u001b[0m\u001b[0;34m,\u001b[0m\u001b[0;34m\"H\"\u001b[0m\u001b[0;34m)\u001b[0m\u001b[0;34m\u001b[0m\u001b[0;34m\u001b[0m\u001b[0m\n\u001b[0m\u001b[1;32m      7\u001b[0m \u001b[0mts\u001b[0m \u001b[0;34m=\u001b[0m \u001b[0mppl\u001b[0m\u001b[0;34m.\u001b[0m\u001b[0mremoveNaNs\u001b[0m\u001b[0;34m(\u001b[0m\u001b[0mmarketData\u001b[0m\u001b[0;34m)\u001b[0m\u001b[0;34m\u001b[0m\u001b[0;34m\u001b[0m\u001b[0m\n\u001b[1;32m      8\u001b[0m \u001b[0mts\u001b[0m\u001b[0;34m.\u001b[0m\u001b[0mindex\u001b[0m \u001b[0;34m=\u001b[0m \u001b[0mts\u001b[0m\u001b[0;34m.\u001b[0m\u001b[0mindex\u001b[0m\u001b[0;34m.\u001b[0m\u001b[0mtz_localize\u001b[0m\u001b[0;34m(\u001b[0m\u001b[0;34m'UTC'\u001b[0m\u001b[0;34m)\u001b[0m\u001b[0;34m\u001b[0m\u001b[0;34m\u001b[0m\u001b[0m\n",
      "\u001b[0;32m~/Development/anaconda/envs/dev/lib/python3.6/site-packages/quantutils/api/datasource.py\u001b[0m in \u001b[0;36maggregate\u001b[0;34m(self, start, end, sources, sample_unit)\u001b[0m\n\u001b[1;32m     37\u001b[0m                     \u001b[0;31m# Load Dataframe from store\u001b[0m\u001b[0;34m\u001b[0m\u001b[0;34m\u001b[0m\u001b[0;34m\u001b[0m\u001b[0m\n\u001b[1;32m     38\u001b[0m                     \u001b[0mselect_stmt\u001b[0m \u001b[0;34m=\u001b[0m \u001b[0;34m''\u001b[0m\u001b[0;34m.\u001b[0m\u001b[0mjoin\u001b[0m\u001b[0;34m(\u001b[0m\u001b[0;34m[\u001b[0m\u001b[0;34m\"index>'\"\u001b[0m\u001b[0;34m,\u001b[0m \u001b[0mstart\u001b[0m\u001b[0;34m,\u001b[0m \u001b[0;34m\"' and index<='\"\u001b[0m\u001b[0;34m,\u001b[0m \u001b[0mend\u001b[0m\u001b[0;34m,\u001b[0m \u001b[0;34m\"'\"\u001b[0m\u001b[0;34m]\u001b[0m\u001b[0;34m)\u001b[0m\u001b[0;34m\u001b[0m\u001b[0;34m\u001b[0m\u001b[0m\n\u001b[0;32m---> 39\u001b[0;31m                     \u001b[0mtsData\u001b[0m \u001b[0;34m=\u001b[0m \u001b[0mhdfStore\u001b[0m\u001b[0;34m.\u001b[0m\u001b[0mselect\u001b[0m\u001b[0;34m(\u001b[0m\u001b[0mdatasource\u001b[0m\u001b[0;34m,\u001b[0m \u001b[0mwhere\u001b[0m\u001b[0;34m=\u001b[0m\u001b[0mselect_stmt\u001b[0m\u001b[0;34m)\u001b[0m\u001b[0;34m\u001b[0m\u001b[0;34m\u001b[0m\u001b[0m\n\u001b[0m\u001b[1;32m     40\u001b[0m \u001b[0;34m\u001b[0m\u001b[0m\n\u001b[1;32m     41\u001b[0m                     \u001b[0;32mif\u001b[0m \u001b[0;32mnot\u001b[0m \u001b[0mtsData\u001b[0m\u001b[0;34m.\u001b[0m\u001b[0mempty\u001b[0m\u001b[0;34m:\u001b[0m\u001b[0;34m\u001b[0m\u001b[0;34m\u001b[0m\u001b[0m\n",
      "\u001b[0;32m~/Development/anaconda/envs/dev/lib/python3.6/site-packages/pandas/io/pytables.py\u001b[0m in \u001b[0;36mselect\u001b[0;34m(self, key, where, start, stop, columns, iterator, chunksize, auto_close)\u001b[0m\n\u001b[1;32m    865\u001b[0m         )\n\u001b[1;32m    866\u001b[0m \u001b[0;34m\u001b[0m\u001b[0m\n\u001b[0;32m--> 867\u001b[0;31m         \u001b[0;32mreturn\u001b[0m \u001b[0mit\u001b[0m\u001b[0;34m.\u001b[0m\u001b[0mget_result\u001b[0m\u001b[0;34m(\u001b[0m\u001b[0;34m)\u001b[0m\u001b[0;34m\u001b[0m\u001b[0;34m\u001b[0m\u001b[0m\n\u001b[0m\u001b[1;32m    868\u001b[0m \u001b[0;34m\u001b[0m\u001b[0m\n\u001b[1;32m    869\u001b[0m     def select_as_coordinates(\n",
      "\u001b[0;32m~/Development/anaconda/envs/dev/lib/python3.6/site-packages/pandas/io/pytables.py\u001b[0m in \u001b[0;36mget_result\u001b[0;34m(self, coordinates)\u001b[0m\n\u001b[1;32m   1919\u001b[0m \u001b[0;34m\u001b[0m\u001b[0m\n\u001b[1;32m   1920\u001b[0m         \u001b[0;31m# directly return the result\u001b[0m\u001b[0;34m\u001b[0m\u001b[0;34m\u001b[0m\u001b[0;34m\u001b[0m\u001b[0m\n\u001b[0;32m-> 1921\u001b[0;31m         \u001b[0mresults\u001b[0m \u001b[0;34m=\u001b[0m \u001b[0mself\u001b[0m\u001b[0;34m.\u001b[0m\u001b[0mfunc\u001b[0m\u001b[0;34m(\u001b[0m\u001b[0mself\u001b[0m\u001b[0;34m.\u001b[0m\u001b[0mstart\u001b[0m\u001b[0;34m,\u001b[0m \u001b[0mself\u001b[0m\u001b[0;34m.\u001b[0m\u001b[0mstop\u001b[0m\u001b[0;34m,\u001b[0m \u001b[0mwhere\u001b[0m\u001b[0;34m)\u001b[0m\u001b[0;34m\u001b[0m\u001b[0;34m\u001b[0m\u001b[0m\n\u001b[0m\u001b[1;32m   1922\u001b[0m         \u001b[0mself\u001b[0m\u001b[0;34m.\u001b[0m\u001b[0mclose\u001b[0m\u001b[0;34m(\u001b[0m\u001b[0;34m)\u001b[0m\u001b[0;34m\u001b[0m\u001b[0;34m\u001b[0m\u001b[0m\n\u001b[1;32m   1923\u001b[0m         \u001b[0;32mreturn\u001b[0m \u001b[0mresults\u001b[0m\u001b[0;34m\u001b[0m\u001b[0;34m\u001b[0m\u001b[0m\n",
      "\u001b[0;32m~/Development/anaconda/envs/dev/lib/python3.6/site-packages/pandas/io/pytables.py\u001b[0m in \u001b[0;36mfunc\u001b[0;34m(_start, _stop, _where)\u001b[0m\n\u001b[1;32m    849\u001b[0m         \u001b[0;31m# function to call on iteration\u001b[0m\u001b[0;34m\u001b[0m\u001b[0;34m\u001b[0m\u001b[0;34m\u001b[0m\u001b[0m\n\u001b[1;32m    850\u001b[0m         \u001b[0;32mdef\u001b[0m \u001b[0mfunc\u001b[0m\u001b[0;34m(\u001b[0m\u001b[0m_start\u001b[0m\u001b[0;34m,\u001b[0m \u001b[0m_stop\u001b[0m\u001b[0;34m,\u001b[0m \u001b[0m_where\u001b[0m\u001b[0;34m)\u001b[0m\u001b[0;34m:\u001b[0m\u001b[0;34m\u001b[0m\u001b[0;34m\u001b[0m\u001b[0m\n\u001b[0;32m--> 851\u001b[0;31m             \u001b[0;32mreturn\u001b[0m \u001b[0ms\u001b[0m\u001b[0;34m.\u001b[0m\u001b[0mread\u001b[0m\u001b[0;34m(\u001b[0m\u001b[0mstart\u001b[0m\u001b[0;34m=\u001b[0m\u001b[0m_start\u001b[0m\u001b[0;34m,\u001b[0m \u001b[0mstop\u001b[0m\u001b[0;34m=\u001b[0m\u001b[0m_stop\u001b[0m\u001b[0;34m,\u001b[0m \u001b[0mwhere\u001b[0m\u001b[0;34m=\u001b[0m\u001b[0m_where\u001b[0m\u001b[0;34m,\u001b[0m \u001b[0mcolumns\u001b[0m\u001b[0;34m=\u001b[0m\u001b[0mcolumns\u001b[0m\u001b[0;34m)\u001b[0m\u001b[0;34m\u001b[0m\u001b[0;34m\u001b[0m\u001b[0m\n\u001b[0m\u001b[1;32m    852\u001b[0m \u001b[0;34m\u001b[0m\u001b[0m\n\u001b[1;32m    853\u001b[0m         \u001b[0;31m# create the iterator\u001b[0m\u001b[0;34m\u001b[0m\u001b[0;34m\u001b[0m\u001b[0;34m\u001b[0m\u001b[0m\n",
      "\u001b[0;32m~/Development/anaconda/envs/dev/lib/python3.6/site-packages/pandas/io/pytables.py\u001b[0m in \u001b[0;36mread\u001b[0;34m(self, where, columns, start, stop)\u001b[0m\n\u001b[1;32m   4472\u001b[0m             \u001b[0;32mreturn\u001b[0m \u001b[0;32mNone\u001b[0m\u001b[0;34m\u001b[0m\u001b[0;34m\u001b[0m\u001b[0m\n\u001b[1;32m   4473\u001b[0m \u001b[0;34m\u001b[0m\u001b[0m\n\u001b[0;32m-> 4474\u001b[0;31m         \u001b[0mresult\u001b[0m \u001b[0;34m=\u001b[0m \u001b[0mself\u001b[0m\u001b[0;34m.\u001b[0m\u001b[0m_read_axes\u001b[0m\u001b[0;34m(\u001b[0m\u001b[0mwhere\u001b[0m\u001b[0;34m=\u001b[0m\u001b[0mwhere\u001b[0m\u001b[0;34m,\u001b[0m \u001b[0mstart\u001b[0m\u001b[0;34m=\u001b[0m\u001b[0mstart\u001b[0m\u001b[0;34m,\u001b[0m \u001b[0mstop\u001b[0m\u001b[0;34m=\u001b[0m\u001b[0mstop\u001b[0m\u001b[0;34m)\u001b[0m\u001b[0;34m\u001b[0m\u001b[0;34m\u001b[0m\u001b[0m\n\u001b[0m\u001b[1;32m   4475\u001b[0m \u001b[0;34m\u001b[0m\u001b[0m\n\u001b[1;32m   4476\u001b[0m         info = (\n",
      "\u001b[0;32m~/Development/anaconda/envs/dev/lib/python3.6/site-packages/pandas/io/pytables.py\u001b[0m in \u001b[0;36m_read_axes\u001b[0;34m(self, where, start, stop)\u001b[0m\n\u001b[1;32m   3677\u001b[0m         \u001b[0;31m# convert the data\u001b[0m\u001b[0;34m\u001b[0m\u001b[0;34m\u001b[0m\u001b[0;34m\u001b[0m\u001b[0m\n\u001b[1;32m   3678\u001b[0m         \u001b[0;32mfor\u001b[0m \u001b[0ma\u001b[0m \u001b[0;32min\u001b[0m \u001b[0mself\u001b[0m\u001b[0;34m.\u001b[0m\u001b[0maxes\u001b[0m\u001b[0;34m:\u001b[0m\u001b[0;34m\u001b[0m\u001b[0;34m\u001b[0m\u001b[0m\n\u001b[0;32m-> 3679\u001b[0;31m             \u001b[0ma\u001b[0m\u001b[0;34m.\u001b[0m\u001b[0mset_info\u001b[0m\u001b[0;34m(\u001b[0m\u001b[0mself\u001b[0m\u001b[0;34m.\u001b[0m\u001b[0minfo\u001b[0m\u001b[0;34m)\u001b[0m\u001b[0;34m\u001b[0m\u001b[0;34m\u001b[0m\u001b[0m\n\u001b[0m\u001b[1;32m   3680\u001b[0m             res = a.convert(\n\u001b[1;32m   3681\u001b[0m                 \u001b[0mvalues\u001b[0m\u001b[0;34m,\u001b[0m\u001b[0;34m\u001b[0m\u001b[0;34m\u001b[0m\u001b[0m\n",
      "\u001b[0;32m~/Development/anaconda/envs/dev/lib/python3.6/site-packages/pandas/io/pytables.py\u001b[0m in \u001b[0;36mset_info\u001b[0;34m(self, info)\u001b[0m\n\u001b[1;32m   2177\u001b[0m     \u001b[0;32mdef\u001b[0m \u001b[0mset_info\u001b[0m\u001b[0;34m(\u001b[0m\u001b[0mself\u001b[0m\u001b[0;34m,\u001b[0m \u001b[0minfo\u001b[0m\u001b[0;34m)\u001b[0m\u001b[0;34m:\u001b[0m\u001b[0;34m\u001b[0m\u001b[0;34m\u001b[0m\u001b[0m\n\u001b[1;32m   2178\u001b[0m         \u001b[0;34m\"\"\" set my state from the passed info \"\"\"\u001b[0m\u001b[0;34m\u001b[0m\u001b[0;34m\u001b[0m\u001b[0m\n\u001b[0;32m-> 2179\u001b[0;31m         \u001b[0midx\u001b[0m \u001b[0;34m=\u001b[0m \u001b[0minfo\u001b[0m\u001b[0;34m.\u001b[0m\u001b[0mget\u001b[0m\u001b[0;34m(\u001b[0m\u001b[0mself\u001b[0m\u001b[0;34m.\u001b[0m\u001b[0mname\u001b[0m\u001b[0;34m)\u001b[0m\u001b[0;34m\u001b[0m\u001b[0;34m\u001b[0m\u001b[0m\n\u001b[0m\u001b[1;32m   2180\u001b[0m         \u001b[0;32mif\u001b[0m \u001b[0midx\u001b[0m \u001b[0;32mis\u001b[0m \u001b[0;32mnot\u001b[0m \u001b[0;32mNone\u001b[0m\u001b[0;34m:\u001b[0m\u001b[0;34m\u001b[0m\u001b[0;34m\u001b[0m\u001b[0m\n\u001b[1;32m   2181\u001b[0m             \u001b[0mself\u001b[0m\u001b[0;34m.\u001b[0m\u001b[0m__dict__\u001b[0m\u001b[0;34m.\u001b[0m\u001b[0mupdate\u001b[0m\u001b[0;34m(\u001b[0m\u001b[0midx\u001b[0m\u001b[0;34m)\u001b[0m\u001b[0;34m\u001b[0m\u001b[0;34m\u001b[0m\u001b[0m\n",
      "\u001b[0;31mAttributeError\u001b[0m: 'numpy.bytes_' object has no attribute 'get'"
     ]
    }
   ],
   "source": [
    "## Get Market Data\n",
    "\n",
    "#mds = MIDataStore(remote=True, location=\"http://pricestore.192.168.1.203.nip.io\")\n",
    "mds = MIDataStore(location=\"../marketinsights-price-store/datastore\")\n",
    "\n",
    "marketData = mds.aggregate(\"2013-01-01\", \"2013-07-11\", [\"WallSt-hourly\",\"D%26J-IND\"],\"H\")\n",
    "ts = ppl.removeNaNs(marketData)\n",
    "ts.index = ts.index.tz_localize('UTC')\n",
    "\n",
    "sample1 = ts[5:10].copy()\n",
    "sample2 = ts[12:15].copy()\n",
    "sample3 = ts[:5].copy()"
   ]
  },
  {
   "cell_type": "code",
   "execution_count": 16,
   "metadata": {},
   "outputs": [
    {
     "data": {
      "text/html": [
       "<div>\n",
       "<style scoped>\n",
       "    .dataframe tbody tr th:only-of-type {\n",
       "        vertical-align: middle;\n",
       "    }\n",
       "\n",
       "    .dataframe tbody tr th {\n",
       "        vertical-align: top;\n",
       "    }\n",
       "\n",
       "    .dataframe thead th {\n",
       "        text-align: right;\n",
       "    }\n",
       "</style>\n",
       "<table border=\"1\" class=\"dataframe\">\n",
       "  <thead>\n",
       "    <tr style=\"text-align: right;\">\n",
       "      <th></th>\n",
       "      <th>Open</th>\n",
       "      <th>High</th>\n",
       "      <th>Low</th>\n",
       "      <th>Close</th>\n",
       "    </tr>\n",
       "  </thead>\n",
       "  <tbody>\n",
       "    <tr>\n",
       "      <th>2013-01-02 15:00:00+00:00</th>\n",
       "      <td>13366.48</td>\n",
       "      <td>13374.82</td>\n",
       "      <td>13338.68</td>\n",
       "      <td>13345.45</td>\n",
       "    </tr>\n",
       "    <tr>\n",
       "      <th>2013-01-02 16:00:00+00:00</th>\n",
       "      <td>13345.60</td>\n",
       "      <td>13353.75</td>\n",
       "      <td>13321.64</td>\n",
       "      <td>13321.77</td>\n",
       "    </tr>\n",
       "    <tr>\n",
       "      <th>2013-01-02 17:00:00+00:00</th>\n",
       "      <td>13321.76</td>\n",
       "      <td>13339.25</td>\n",
       "      <td>13320.28</td>\n",
       "      <td>13326.66</td>\n",
       "    </tr>\n",
       "    <tr>\n",
       "      <th>2013-01-02 18:00:00+00:00</th>\n",
       "      <td>13326.64</td>\n",
       "      <td>13336.06</td>\n",
       "      <td>13322.51</td>\n",
       "      <td>13329.19</td>\n",
       "    </tr>\n",
       "    <tr>\n",
       "      <th>2013-01-02 19:00:00+00:00</th>\n",
       "      <td>13329.09</td>\n",
       "      <td>13339.82</td>\n",
       "      <td>13318.19</td>\n",
       "      <td>13331.80</td>\n",
       "    </tr>\n",
       "  </tbody>\n",
       "</table>\n",
       "</div>"
      ],
      "text/plain": [
       "                               Open      High       Low     Close\n",
       "2013-01-02 15:00:00+00:00  13366.48  13374.82  13338.68  13345.45\n",
       "2013-01-02 16:00:00+00:00  13345.60  13353.75  13321.64  13321.77\n",
       "2013-01-02 17:00:00+00:00  13321.76  13339.25  13320.28  13326.66\n",
       "2013-01-02 18:00:00+00:00  13326.64  13336.06  13322.51  13329.19\n",
       "2013-01-02 19:00:00+00:00  13329.09  13339.82  13318.19  13331.80"
      ]
     },
     "execution_count": 16,
     "metadata": {},
     "output_type": "execute_result"
    }
   ],
   "source": [
    "sample3"
   ]
  },
  {
   "cell_type": "code",
   "execution_count": 11,
   "metadata": {
    "scrolled": true
   },
   "outputs": [
    {
     "data": {
      "text/html": [
       "<div>\n",
       "<style scoped>\n",
       "    .dataframe tbody tr th:only-of-type {\n",
       "        vertical-align: middle;\n",
       "    }\n",
       "\n",
       "    .dataframe tbody tr th {\n",
       "        vertical-align: top;\n",
       "    }\n",
       "\n",
       "    .dataframe thead th {\n",
       "        text-align: right;\n",
       "    }\n",
       "</style>\n",
       "<table border=\"1\" class=\"dataframe\">\n",
       "  <thead>\n",
       "    <tr style=\"text-align: right;\">\n",
       "      <th></th>\n",
       "      <th>Open</th>\n",
       "      <th>High</th>\n",
       "      <th>Low</th>\n",
       "      <th>Close</th>\n",
       "    </tr>\n",
       "    <tr>\n",
       "      <th>Date_Time</th>\n",
       "      <th></th>\n",
       "      <th></th>\n",
       "      <th></th>\n",
       "      <th></th>\n",
       "    </tr>\n",
       "  </thead>\n",
       "  <tbody>\n",
       "    <tr>\n",
       "      <th>2013-01-02 20:00:00+00:00</th>\n",
       "      <td>13331.83</td>\n",
       "      <td>13395.20</td>\n",
       "      <td>13331.83</td>\n",
       "      <td>13395.20</td>\n",
       "    </tr>\n",
       "    <tr>\n",
       "      <th>2013-01-03 15:00:00+00:00</th>\n",
       "      <td>13381.66</td>\n",
       "      <td>13395.66</td>\n",
       "      <td>13376.42</td>\n",
       "      <td>13391.14</td>\n",
       "    </tr>\n",
       "    <tr>\n",
       "      <th>2013-01-03 16:00:00+00:00</th>\n",
       "      <td>13391.18</td>\n",
       "      <td>13413.73</td>\n",
       "      <td>13391.16</td>\n",
       "      <td>13408.19</td>\n",
       "    </tr>\n",
       "    <tr>\n",
       "      <th>2013-01-03 17:00:00+00:00</th>\n",
       "      <td>13408.16</td>\n",
       "      <td>13420.65</td>\n",
       "      <td>13402.45</td>\n",
       "      <td>13419.40</td>\n",
       "    </tr>\n",
       "    <tr>\n",
       "      <th>2013-01-03 18:00:00+00:00</th>\n",
       "      <td>13419.37</td>\n",
       "      <td>13430.13</td>\n",
       "      <td>13411.07</td>\n",
       "      <td>13427.51</td>\n",
       "    </tr>\n",
       "  </tbody>\n",
       "</table>\n",
       "</div>"
      ],
      "text/plain": [
       "                               Open      High       Low     Close\n",
       "Date_Time                                                        \n",
       "2013-01-02 20:00:00+00:00  13331.83  13395.20  13331.83  13395.20\n",
       "2013-01-03 15:00:00+00:00  13381.66  13395.66  13376.42  13391.14\n",
       "2013-01-03 16:00:00+00:00  13391.18  13413.73  13391.16  13408.19\n",
       "2013-01-03 17:00:00+00:00  13408.16  13420.65  13402.45  13419.40\n",
       "2013-01-03 18:00:00+00:00  13419.37  13430.13  13411.07  13427.51"
      ]
     },
     "execution_count": 11,
     "metadata": {},
     "output_type": "execute_result"
    }
   ],
   "source": [
    "sample1"
   ]
  },
  {
   "cell_type": "code",
   "execution_count": 15,
   "metadata": {},
   "outputs": [
    {
     "data": {
      "text/html": [
       "<div>\n",
       "<style scoped>\n",
       "    .dataframe tbody tr th:only-of-type {\n",
       "        vertical-align: middle;\n",
       "    }\n",
       "\n",
       "    .dataframe tbody tr th {\n",
       "        vertical-align: top;\n",
       "    }\n",
       "\n",
       "    .dataframe thead th {\n",
       "        text-align: right;\n",
       "    }\n",
       "</style>\n",
       "<table border=\"1\" class=\"dataframe\">\n",
       "  <thead>\n",
       "    <tr style=\"text-align: right;\">\n",
       "      <th></th>\n",
       "      <th>Open</th>\n",
       "      <th>High</th>\n",
       "      <th>Low</th>\n",
       "      <th>Close</th>\n",
       "    </tr>\n",
       "    <tr>\n",
       "      <th>Date_Time</th>\n",
       "      <th></th>\n",
       "      <th></th>\n",
       "      <th></th>\n",
       "      <th></th>\n",
       "    </tr>\n",
       "  </thead>\n",
       "  <tbody>\n",
       "    <tr>\n",
       "      <th>2013-01-04 15:00:00+00:00</th>\n",
       "      <td>13407.46</td>\n",
       "      <td>13411.91</td>\n",
       "      <td>13377.22</td>\n",
       "      <td>13387.45</td>\n",
       "    </tr>\n",
       "    <tr>\n",
       "      <th>2013-01-04 16:00:00+00:00</th>\n",
       "      <td>13387.37</td>\n",
       "      <td>13420.86</td>\n",
       "      <td>13386.80</td>\n",
       "      <td>13408.33</td>\n",
       "    </tr>\n",
       "    <tr>\n",
       "      <th>2013-01-04 17:00:00+00:00</th>\n",
       "      <td>13408.20</td>\n",
       "      <td>13415.80</td>\n",
       "      <td>13403.52</td>\n",
       "      <td>13405.06</td>\n",
       "    </tr>\n",
       "  </tbody>\n",
       "</table>\n",
       "</div>"
      ],
      "text/plain": [
       "                               Open      High       Low     Close\n",
       "Date_Time                                                        \n",
       "2013-01-04 15:00:00+00:00  13407.46  13411.91  13377.22  13387.45\n",
       "2013-01-04 16:00:00+00:00  13387.37  13420.86  13386.80  13408.33\n",
       "2013-01-04 17:00:00+00:00  13408.20  13415.80  13403.52  13405.06"
      ]
     },
     "execution_count": 15,
     "metadata": {},
     "output_type": "execute_result"
    }
   ],
   "source": [
    "sample2"
   ]
  },
  {
   "cell_type": "code",
   "execution_count": 16,
   "metadata": {},
   "outputs": [
    {
     "data": {
      "text/html": [
       "<div>\n",
       "<style scoped>\n",
       "    .dataframe tbody tr th:only-of-type {\n",
       "        vertical-align: middle;\n",
       "    }\n",
       "\n",
       "    .dataframe tbody tr th {\n",
       "        vertical-align: top;\n",
       "    }\n",
       "\n",
       "    .dataframe thead th {\n",
       "        text-align: right;\n",
       "    }\n",
       "</style>\n",
       "<table border=\"1\" class=\"dataframe\">\n",
       "  <thead>\n",
       "    <tr style=\"text-align: right;\">\n",
       "      <th></th>\n",
       "      <th>Open</th>\n",
       "      <th>High</th>\n",
       "      <th>Low</th>\n",
       "      <th>Close</th>\n",
       "    </tr>\n",
       "    <tr>\n",
       "      <th>Date_Time</th>\n",
       "      <th></th>\n",
       "      <th></th>\n",
       "      <th></th>\n",
       "      <th></th>\n",
       "    </tr>\n",
       "  </thead>\n",
       "  <tbody>\n",
       "    <tr>\n",
       "      <th>2013-01-02 15:00:00+00:00</th>\n",
       "      <td>13366.48</td>\n",
       "      <td>13374.82</td>\n",
       "      <td>13338.68</td>\n",
       "      <td>13345.45</td>\n",
       "    </tr>\n",
       "    <tr>\n",
       "      <th>2013-01-02 16:00:00+00:00</th>\n",
       "      <td>13345.60</td>\n",
       "      <td>13353.75</td>\n",
       "      <td>13321.64</td>\n",
       "      <td>13321.77</td>\n",
       "    </tr>\n",
       "    <tr>\n",
       "      <th>2013-01-02 17:00:00+00:00</th>\n",
       "      <td>13321.76</td>\n",
       "      <td>13339.25</td>\n",
       "      <td>13320.28</td>\n",
       "      <td>13326.66</td>\n",
       "    </tr>\n",
       "    <tr>\n",
       "      <th>2013-01-02 18:00:00+00:00</th>\n",
       "      <td>13326.64</td>\n",
       "      <td>13336.06</td>\n",
       "      <td>13322.51</td>\n",
       "      <td>13329.19</td>\n",
       "    </tr>\n",
       "    <tr>\n",
       "      <th>2013-01-02 19:00:00+00:00</th>\n",
       "      <td>13329.09</td>\n",
       "      <td>13339.82</td>\n",
       "      <td>13318.19</td>\n",
       "      <td>13331.80</td>\n",
       "    </tr>\n",
       "  </tbody>\n",
       "</table>\n",
       "</div>"
      ],
      "text/plain": [
       "                               Open      High       Low     Close\n",
       "Date_Time                                                        \n",
       "2013-01-02 15:00:00+00:00  13366.48  13374.82  13338.68  13345.45\n",
       "2013-01-02 16:00:00+00:00  13345.60  13353.75  13321.64  13321.77\n",
       "2013-01-02 17:00:00+00:00  13321.76  13339.25  13320.28  13326.66\n",
       "2013-01-02 18:00:00+00:00  13326.64  13336.06  13322.51  13329.19\n",
       "2013-01-02 19:00:00+00:00  13329.09  13339.82  13318.19  13331.80"
      ]
     },
     "execution_count": 16,
     "metadata": {},
     "output_type": "execute_result"
    }
   ],
   "source": [
    "sample3"
   ]
  },
  {
   "cell_type": "code",
   "execution_count": 24,
   "metadata": {},
   "outputs": [],
   "source": [
    "def appendHDF(hdfFile, bucket, data, sample_unit='1H', update=False):\n",
    "    # Get HDFStore\n",
    "    hdfStore = pandas.HDFStore(hdfFile, 'a')\n",
    "    append = True\n",
    "    # TODO Sort incoming data\n",
    "    \n",
    "    if '/'+bucket in hdfStore.keys():\n",
    "    \n",
    "        # Get first,last row\n",
    "        nrows = hdfStore.get_storer(bucket).nrows\n",
    "        last = hdfStore.select(bucket,start=nrows-1,stop=nrows)\n",
    "        \n",
    "        # If this is entirely beyond the last element in the file... append\n",
    "        # If not... update (incurring a full file re-write and performance hit), or throw exception                  \n",
    "        if not data[data.index<=last.index[0]].empty:\n",
    "            # Update table with overlapped data\n",
    "            storedData = hdfStore.get(bucket)\n",
    "            data = ppl.merge(data, storedData)\n",
    "            append = False\n",
    "            \n",
    "            if not update:\n",
    "                raise ValueError('Error: Entry already exists for data starting at index ' + str(data.index[0])) \n",
    "        else:                                      \n",
    "            data = ppl.merge(last, data)        \n",
    "     \n",
    "    data = ppl.resample(data, sample_unit)\n",
    "    if append:        \n",
    "        print(\"Appending data...\")\n",
    "        hdfStore.append(bucket, data, format='table', append=True)\n",
    "    else:\n",
    "        print(\"Re-writing table data for update...\")\n",
    "        hdfStore.put(bucket, data, format='table')\n",
    "\n",
    "    hdfStore.close()\n",
    "    \n",
    "    \n",
    "def getHDF(hdfFile, bucket):\n",
    "    \n",
    "    # Get HDFStore\n",
    "    hdfStore = pandas.HDFStore(hdfFile, 'r')\n",
    "    data = hdfStore.get(bucket)   \n",
    "    hdfStore.close()    \n",
    "    return data\n",
    "\n"
   ]
  },
  {
   "cell_type": "code",
   "execution_count": 27,
   "metadata": {},
   "outputs": [
    {
     "name": "stdout",
     "output_type": "stream",
     "text": [
      "Merging data...\n",
      "Resampling to 1H periods\n",
      "Re-writing table data for update...\n"
     ]
    }
   ],
   "source": [
    "appendHDF(\"temp.hdf\", \"DOW\", sample3, '1H', True)"
   ]
  },
  {
   "cell_type": "code",
   "execution_count": 15,
   "metadata": {},
   "outputs": [],
   "source": [
    "hdfFile = \"tmp/data.hdf\"\n",
    "x = pandas.HDFStore(hdfFile, 'r')"
   ]
  },
  {
   "cell_type": "code",
   "execution_count": 20,
   "metadata": {},
   "outputs": [],
   "source": [
    "start = \"2013-01-02 20:00:00+00:00\"\n",
    "end = \"2013-01-03 17:00:00+00:00\"\n",
    "select = ''.join([\"index>'\", start, \"' and index<='\", end, \"'\"])\n",
    "poo = x.select(\"D&J-IND\", where=select)"
   ]
  },
  {
   "cell_type": "code",
   "execution_count": 18,
   "metadata": {},
   "outputs": [
    {
     "data": {
      "text/plain": [
       "['/D&J-IND', '/SANDP-500', '/SP500-hourly', '/WallSt-hourly']"
      ]
     },
     "execution_count": 18,
     "metadata": {},
     "output_type": "execute_result"
    }
   ],
   "source": [
    "x.keys()"
   ]
  },
  {
   "cell_type": "code",
   "execution_count": 21,
   "metadata": {},
   "outputs": [
    {
     "data": {
      "text/html": [
       "<div>\n",
       "<style scoped>\n",
       "    .dataframe tbody tr th:only-of-type {\n",
       "        vertical-align: middle;\n",
       "    }\n",
       "\n",
       "    .dataframe tbody tr th {\n",
       "        vertical-align: top;\n",
       "    }\n",
       "\n",
       "    .dataframe thead th {\n",
       "        text-align: right;\n",
       "    }\n",
       "</style>\n",
       "<table border=\"1\" class=\"dataframe\">\n",
       "  <thead>\n",
       "    <tr style=\"text-align: right;\">\n",
       "      <th></th>\n",
       "      <th>Open</th>\n",
       "      <th>High</th>\n",
       "      <th>Low</th>\n",
       "      <th>Close</th>\n",
       "    </tr>\n",
       "    <tr>\n",
       "      <th>Date_Time</th>\n",
       "      <th></th>\n",
       "      <th></th>\n",
       "      <th></th>\n",
       "      <th></th>\n",
       "    </tr>\n",
       "  </thead>\n",
       "  <tbody>\n",
       "    <tr>\n",
       "      <th>2013-01-02 20:05:00+00:00</th>\n",
       "      <td>13338.40</td>\n",
       "      <td>13342.17</td>\n",
       "      <td>13338.40</td>\n",
       "      <td>13342.17</td>\n",
       "    </tr>\n",
       "    <tr>\n",
       "      <th>2013-01-02 20:10:00+00:00</th>\n",
       "      <td>13342.19</td>\n",
       "      <td>13342.50</td>\n",
       "      <td>13339.98</td>\n",
       "      <td>13342.45</td>\n",
       "    </tr>\n",
       "    <tr>\n",
       "      <th>2013-01-02 20:15:00+00:00</th>\n",
       "      <td>13342.47</td>\n",
       "      <td>13344.33</td>\n",
       "      <td>13340.62</td>\n",
       "      <td>13344.33</td>\n",
       "    </tr>\n",
       "    <tr>\n",
       "      <th>2013-01-02 20:20:00+00:00</th>\n",
       "      <td>13344.40</td>\n",
       "      <td>13353.31</td>\n",
       "      <td>13344.40</td>\n",
       "      <td>13350.49</td>\n",
       "    </tr>\n",
       "    <tr>\n",
       "      <th>2013-01-02 20:25:00+00:00</th>\n",
       "      <td>13350.19</td>\n",
       "      <td>13350.78</td>\n",
       "      <td>13343.62</td>\n",
       "      <td>13347.16</td>\n",
       "    </tr>\n",
       "    <tr>\n",
       "      <th>...</th>\n",
       "      <td>...</td>\n",
       "      <td>...</td>\n",
       "      <td>...</td>\n",
       "      <td>...</td>\n",
       "    </tr>\n",
       "    <tr>\n",
       "      <th>2013-01-03 16:40:00+00:00</th>\n",
       "      <td>13410.17</td>\n",
       "      <td>13410.54</td>\n",
       "      <td>13404.51</td>\n",
       "      <td>13404.51</td>\n",
       "    </tr>\n",
       "    <tr>\n",
       "      <th>2013-01-03 16:45:00+00:00</th>\n",
       "      <td>13404.50</td>\n",
       "      <td>13409.56</td>\n",
       "      <td>13404.12</td>\n",
       "      <td>13409.55</td>\n",
       "    </tr>\n",
       "    <tr>\n",
       "      <th>2013-01-03 16:50:00+00:00</th>\n",
       "      <td>13409.56</td>\n",
       "      <td>13412.46</td>\n",
       "      <td>13408.55</td>\n",
       "      <td>13409.63</td>\n",
       "    </tr>\n",
       "    <tr>\n",
       "      <th>2013-01-03 16:55:00+00:00</th>\n",
       "      <td>13409.69</td>\n",
       "      <td>13410.80</td>\n",
       "      <td>13407.03</td>\n",
       "      <td>13408.19</td>\n",
       "    </tr>\n",
       "    <tr>\n",
       "      <th>2013-01-03 17:00:00+00:00</th>\n",
       "      <td>13408.16</td>\n",
       "      <td>13412.07</td>\n",
       "      <td>13407.44</td>\n",
       "      <td>13411.13</td>\n",
       "    </tr>\n",
       "  </tbody>\n",
       "</table>\n",
       "<p>252 rows × 4 columns</p>\n",
       "</div>"
      ],
      "text/plain": [
       "                               Open      High       Low     Close\n",
       "Date_Time                                                        \n",
       "2013-01-02 20:05:00+00:00  13338.40  13342.17  13338.40  13342.17\n",
       "2013-01-02 20:10:00+00:00  13342.19  13342.50  13339.98  13342.45\n",
       "2013-01-02 20:15:00+00:00  13342.47  13344.33  13340.62  13344.33\n",
       "2013-01-02 20:20:00+00:00  13344.40  13353.31  13344.40  13350.49\n",
       "2013-01-02 20:25:00+00:00  13350.19  13350.78  13343.62  13347.16\n",
       "...                             ...       ...       ...       ...\n",
       "2013-01-03 16:40:00+00:00  13410.17  13410.54  13404.51  13404.51\n",
       "2013-01-03 16:45:00+00:00  13404.50  13409.56  13404.12  13409.55\n",
       "2013-01-03 16:50:00+00:00  13409.56  13412.46  13408.55  13409.63\n",
       "2013-01-03 16:55:00+00:00  13409.69  13410.80  13407.03  13408.19\n",
       "2013-01-03 17:00:00+00:00  13408.16  13412.07  13407.44  13411.13\n",
       "\n",
       "[252 rows x 4 columns]"
      ]
     },
     "execution_count": 21,
     "metadata": {},
     "output_type": "execute_result"
    }
   ],
   "source": [
    "poo"
   ]
  },
  {
   "cell_type": "code",
   "execution_count": null,
   "metadata": {},
   "outputs": [],
   "source": []
  }
 ],
 "metadata": {
  "kernelspec": {
   "display_name": "Python 3",
   "language": "python",
   "name": "python3"
  },
  "language_info": {
   "codemirror_mode": {
    "name": "ipython",
    "version": 3
   },
   "file_extension": ".py",
   "mimetype": "text/x-python",
   "name": "python",
   "nbconvert_exporter": "python",
   "pygments_lexer": "ipython3",
   "version": "3.6.9"
  }
 },
 "nbformat": 4,
 "nbformat_minor": 2
}
